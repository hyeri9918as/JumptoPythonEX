{
 "cells": [
  {
   "cell_type": "markdown",
   "metadata": {},
   "source": [
    "# String(문자열) 자료형 "
   ]
  },
  {
   "cell_type": "markdown",
   "metadata": {},
   "source": [
    "####  문자열이란 문자, 단어 등으로 구성된 문자들의 집합을 의미한다. \n"
   ]
  },
  {
   "cell_type": "markdown",
   "metadata": {},
   "source": [
    "---"
   ]
  },
  {
   "cell_type": "markdown",
   "metadata": {},
   "source": [
    "## 문자열 만드는 법 "
   ]
  },
  {
   "cell_type": "markdown",
   "metadata": {},
   "source": [
    "####  ①  큰따옴표(“)로 양쪽 둘러싸기 \n"
   ]
  },
  {
   "cell_type": "code",
   "execution_count": 15,
   "metadata": {},
   "outputs": [
    {
     "data": {
      "text/plain": [
       "'Hello World'"
      ]
     },
     "execution_count": 15,
     "metadata": {},
     "output_type": "execute_result"
    }
   ],
   "source": [
    "\"Hello World\""
   ]
  },
  {
   "cell_type": "markdown",
   "metadata": {},
   "source": [
    "####  ②  작은 따옴표(‘)로 양쪽 둘러싸기  "
   ]
  },
  {
   "cell_type": "code",
   "execution_count": 16,
   "metadata": {},
   "outputs": [
    {
     "data": {
      "text/plain": [
       "'Python is fun!'"
      ]
     },
     "execution_count": 16,
     "metadata": {},
     "output_type": "execute_result"
    }
   ],
   "source": [
    "'Python is fun!'"
   ]
  },
  {
   "cell_type": "markdown",
   "metadata": {},
   "source": [
    "#### ③  큰따옴표 3개를 연속(”“”)으로 써서 양쪽 둘러싸기 "
   ]
  },
  {
   "cell_type": "code",
   "execution_count": 17,
   "metadata": {},
   "outputs": [
    {
     "data": {
      "text/plain": [
       "' Life is too short, You need python '"
      ]
     },
     "execution_count": 17,
     "metadata": {},
     "output_type": "execute_result"
    }
   ],
   "source": [
    "\"\"\" Life is too short, You need python \"\"\""
   ]
  },
  {
   "cell_type": "markdown",
   "metadata": {},
   "source": [
    "#### ④  작은따옴표 3개를 연속(’‘’)으로 써서 양쪽 둘러싸기"
   ]
  },
  {
   "cell_type": "code",
   "execution_count": 18,
   "metadata": {},
   "outputs": [
    {
     "data": {
      "text/plain": [
       "' Life is too short, You need python'"
      ]
     },
     "execution_count": 18,
     "metadata": {},
     "output_type": "execute_result"
    }
   ],
   "source": [
    "''' Life is too short, You need python'''"
   ]
  },
  {
   "cell_type": "markdown",
   "metadata": {},
   "source": [
    "---"
   ]
  },
  {
   "cell_type": "markdown",
   "metadata": {},
   "source": [
    "## 문자열 안에 작은 따옴표나 큰 따옴표를 포함시키고 싶을 때 "
   ]
  },
  {
   "cell_type": "markdown",
   "metadata": {},
   "source": [
    "####  ① 문자열 안에 작은 따옴표(') 포함시키기\n"
   ]
  },
  {
   "cell_type": "markdown",
   "metadata": {},
   "source": [
    "#### 큰따옴표로 문자열을 둘러싼 후에 작은 따옴표를 포함해야 한다. "
   ]
  },
  {
   "cell_type": "code",
   "execution_count": 19,
   "metadata": {},
   "outputs": [
    {
     "name": "stdout",
     "output_type": "stream",
     "text": [
      "Python's favorite food is perl\n"
     ]
    }
   ],
   "source": [
    "food = \"Python's favorite food is perl\"\n",
    "print(food)"
   ]
  },
  {
   "cell_type": "markdown",
   "metadata": {},
   "source": [
    "####  ②  문자열에 큰따옴표(“)로 포함시키기"
   ]
  },
  {
   "cell_type": "markdown",
   "metadata": {},
   "source": [
    "#### 작은따옴표로 문자열을 둘러싼 후에 큰따옴표를 포함해야 한다. "
   ]
  },
  {
   "cell_type": "code",
   "execution_count": 20,
   "metadata": {},
   "outputs": [
    {
     "name": "stdout",
     "output_type": "stream",
     "text": [
      "\"python is very favorite food is perl\" he says.\n"
     ]
    }
   ],
   "source": [
    "say = '\"python is very favorite food is perl\" he says.'\n",
    "print(say)"
   ]
  },
  {
   "cell_type": "markdown",
   "metadata": {},
   "source": [
    "#### ③ 백슬래시 \\를 사용해서 작은 따옴표(’)와 큰따옴표를 (”) 문자열에 포함시키기 "
   ]
  },
  {
   "cell_type": "code",
   "execution_count": 21,
   "metadata": {},
   "outputs": [
    {
     "name": "stdout",
     "output_type": "stream",
     "text": [
      "Python's favorite food is perl\n",
      "\"python is very favorite food is perl\" he says.\n"
     ]
    }
   ],
   "source": [
    "food = 'Python\\'s favorite food is perl'\n",
    "say = \"\\\"python is very favorite food is perl\\\" he says.\"\n",
    "print(food)\n",
    "print(say)"
   ]
  },
  {
   "cell_type": "markdown",
   "metadata": {},
   "source": [
    "---"
   ]
  },
  {
   "cell_type": "markdown",
   "metadata": {},
   "source": [
    "## 여러 줄인 문자열을 변수에 대입하고 싶을 때 "
   ]
  },
  {
   "cell_type": "markdown",
   "metadata": {},
   "source": [
    "####  ① 줄을 바꾸는 이스케이프 코드 '\\n' 삽입하기"
   ]
  },
  {
   "cell_type": "code",
   "execution_count": 22,
   "metadata": {},
   "outputs": [
    {
     "name": "stdout",
     "output_type": "stream",
     "text": [
      "Life is too short \n",
      "You need python\n"
     ]
    }
   ],
   "source": [
    "multiline = \"Life is too short \\nYou need python\"\n",
    "print(multiline)"
   ]
  },
  {
   "cell_type": "markdown",
   "metadata": {},
   "source": [
    "####  ②  연속된 작은 따옴표 3개 (‘’‘) 또는 큰따옴표 3개(“”“) 사용하기 "
   ]
  },
  {
   "cell_type": "code",
   "execution_count": 13,
   "metadata": {},
   "outputs": [
    {
     "name": "stdout",
     "output_type": "stream",
     "text": [
      "\n",
      "    Life is too short \n",
      "    You need python\n",
      "\n"
     ]
    }
   ],
   "source": [
    "# 작은 따옴표 3개 사용 \n",
    "\n",
    "multiline = '''\n",
    "    Life is too short \n",
    "    You need python\n",
    "'''\n",
    "print(multiline)\n"
   ]
  },
  {
   "cell_type": "code",
   "execution_count": 23,
   "metadata": {},
   "outputs": [
    {
     "name": "stdout",
     "output_type": "stream",
     "text": [
      "\n",
      "    Life is too short \n",
      "    You need python\n",
      "\n"
     ]
    }
   ],
   "source": [
    "# 큰 따옴표 3개 사용 \n",
    "\n",
    "multiline = \"\"\"\n",
    "    Life is too short \n",
    "    You need python\n",
    "\"\"\"\n",
    "print(multiline)\n"
   ]
  }
 ],
 "metadata": {
  "kernelspec": {
   "display_name": "Python 3.8.9 64-bit",
   "language": "python",
   "name": "python3"
  },
  "language_info": {
   "codemirror_mode": {
    "name": "ipython",
    "version": 3
   },
   "file_extension": ".py",
   "mimetype": "text/x-python",
   "name": "python",
   "nbconvert_exporter": "python",
   "pygments_lexer": "ipython3",
   "version": "3.8.9"
  },
  "orig_nbformat": 4,
  "vscode": {
   "interpreter": {
    "hash": "e830bd47f5005a1920e1b1ec2d6968b0df80bea4a16275604f69f153be9c7bfc"
   }
  }
 },
 "nbformat": 4,
 "nbformat_minor": 2
}
