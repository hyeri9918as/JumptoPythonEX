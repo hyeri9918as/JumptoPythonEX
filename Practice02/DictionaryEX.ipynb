{
 "cells": [
  {
   "cell_type": "markdown",
   "metadata": {},
   "source": [
    "# Dictionary (딕셔너리) 자료형"
   ]
  },
  {
   "cell_type": "markdown",
   "metadata": {},
   "source": [
    "#### 딕셔너리는 key와 value를 한쌍으로 갖는 자료형이다. 딕셔너리는 key를 통해 value를 얻는다. "
   ]
  },
  {
   "cell_type": "markdown",
   "metadata": {},
   "source": [
    "---"
   ]
  },
  {
   "cell_type": "markdown",
   "metadata": {},
   "source": [
    "## 딕셔너리 형태 "
   ]
  },
  {
   "cell_type": "markdown",
   "metadata": {},
   "source": [
    "#### 딕셔너리의 요소는 {key:value}로 구성되어 있다. 요소들은 쉼표로 구분되어 있다. "
   ]
  },
  {
   "cell_type": "code",
   "execution_count": 2,
   "metadata": {},
   "outputs": [
    {
     "name": "stdout",
     "output_type": "stream",
     "text": [
      "{'name': 'pey', 'phone': '01199993323', 'birth': '1118'}\n"
     ]
    }
   ],
   "source": [
    "dic = {'name':'pey', 'phone':'01199993323', 'birth':'1118'}\n",
    "print(dic)"
   ]
  },
  {
   "cell_type": "markdown",
   "metadata": {},
   "source": [
    "## 딕셔너리 Value 리스트 넣기 "
   ]
  },
  {
   "cell_type": "code",
   "execution_count": 3,
   "metadata": {},
   "outputs": [
    {
     "name": "stdout",
     "output_type": "stream",
     "text": [
      "{'a': [1, 2, 3]}\n"
     ]
    }
   ],
   "source": [
    "a = {'a' : [1, 2, 3]}\n",
    "print(a)"
   ]
  },
  {
   "cell_type": "markdown",
   "metadata": {},
   "source": [
    "---"
   ]
  },
  {
   "cell_type": "markdown",
   "metadata": {},
   "source": [
    "## 딕셔너리 쌍 추가, 삭제하기 "
   ]
  },
  {
   "cell_type": "markdown",
   "metadata": {},
   "source": [
    "### ① 딕셔너리 쌍 추가하기"
   ]
  },
  {
   "cell_type": "code",
   "execution_count": 1,
   "metadata": {},
   "outputs": [
    {
     "name": "stdout",
     "output_type": "stream",
     "text": [
      "{1: 'a', 2: 'b'}\n"
     ]
    }
   ],
   "source": [
    "a = {1: 'a'}\n",
    "a[2] = 'b'\n",
    "\n",
    "print(a)"
   ]
  },
  {
   "cell_type": "markdown",
   "metadata": {},
   "source": [
    "#### {1: ‘a’} 딕셔너리에 a[2] = ‘b’와 같은 한 쌍을 입력하면 딕셔너리 a에 Key와 Value 한 쌍으로 추가된다. "
   ]
  },
  {
   "cell_type": "code",
   "execution_count": 2,
   "metadata": {},
   "outputs": [
    {
     "name": "stdout",
     "output_type": "stream",
     "text": [
      "{1: 'a', 2: 'b', 'name': 'pey'}\n"
     ]
    }
   ],
   "source": [
    "a = {1: 'a'}\n",
    "a[2] = 'b'\n",
    "a['name'] = 'pey'\n",
    "\n",
    "print(a)"
   ]
  },
  {
   "cell_type": "markdown",
   "metadata": {},
   "source": [
    "#### 딕셔너리 a에 ‘name’:’pey’라는 쌍이 추가 된 것을 확인할 수 있다. "
   ]
  },
  {
   "cell_type": "code",
   "execution_count": 3,
   "metadata": {},
   "outputs": [
    {
     "name": "stdout",
     "output_type": "stream",
     "text": [
      "{1: 'a', 2: 'b', 'name': 'pey', 3: [1, 2, 3]}\n"
     ]
    }
   ],
   "source": [
    "a = {1: 'a'}\n",
    "a[2] = 'b'\n",
    "a['name'] = 'pey'\n",
    "a[3] = [1, 2, 3]\n",
    "\n",
    "print(a)"
   ]
  },
  {
   "cell_type": "markdown",
   "metadata": {},
   "source": [
    "#### Key는 3, Value는 [1, 2, 3]을 가지는 한 쌍이 또 추가된 것을 확인할 수 있다. "
   ]
  },
  {
   "cell_type": "markdown",
   "metadata": {},
   "source": [
    "### ② 딕셔너리 요소 삭제하기 "
   ]
  },
  {
   "cell_type": "code",
   "execution_count": 4,
   "metadata": {},
   "outputs": [
    {
     "name": "stdout",
     "output_type": "stream",
     "text": [
      "{2: 'b', 'name': 'pey', 3: [1, 2, 3]}\n"
     ]
    }
   ],
   "source": [
    "a = {1: 'a'}\n",
    "a[2] = 'b'\n",
    "a['name'] = 'pey'\n",
    "a[3] = [1, 2, 3]\n",
    "\n",
    "del a[1]\n",
    "print(a)"
   ]
  },
  {
   "cell_type": "markdown",
   "metadata": {},
   "source": [
    "#### del 함수를 사용해서 del a[key]처럼 입력하면 지정한 Key에 해당하는 {key:value} 쌍이 삭제된다. "
   ]
  },
  {
   "cell_type": "markdown",
   "metadata": {},
   "source": [
    "### ③ 딕셔너리에서 Key 사용해서 Value 얻기 "
   ]
  },
  {
   "cell_type": "code",
   "execution_count": 5,
   "metadata": {},
   "outputs": [
    {
     "name": "stdout",
     "output_type": "stream",
     "text": [
      "10\n",
      "99\n"
     ]
    }
   ],
   "source": [
    "grade = {'pey' : 10, 'julliet' : 99}\n",
    "print(grade['pey'])\n",
    "print(grade['julliet'])"
   ]
  },
  {
   "cell_type": "code",
   "execution_count": 17,
   "metadata": {},
   "outputs": [
    {
     "name": "stdout",
     "output_type": "stream",
     "text": [
      "pey\n",
      "01012341234\n",
      "0918\n"
     ]
    }
   ],
   "source": [
    "dic = {'name':'pey', 'phone':'01012341234', 'birth':'0918'}\n",
    "print(dic['name'])\n",
    "print(dic['phone'])\n",
    "print(dic['birth'])  "
   ]
  },
  {
   "cell_type": "markdown",
   "metadata": {},
   "source": [
    "---"
   ]
  },
  {
   "cell_type": "markdown",
   "metadata": {},
   "source": [
    "## 딕셔너리 생성 시 주의사항"
   ]
  },
  {
   "cell_type": "markdown",
   "metadata": {},
   "source": [
    "#### ⓧ 딕셔너리에서 Key는 고유한 값이므로 중복되는 Key 값을 설정 시 하나를 제외한 나머지는 모두 무시된다. "
   ]
  },
  {
   "cell_type": "code",
   "execution_count": 18,
   "metadata": {},
   "outputs": [
    {
     "name": "stdout",
     "output_type": "stream",
     "text": [
      "{1: 'b'}\n"
     ]
    }
   ],
   "source": [
    "a = {1:'a', 1:'b'}\n",
    "print(a)"
   ]
  },
  {
   "cell_type": "markdown",
   "metadata": {},
   "source": [
    "#### ⓧ Key 값으로 리스트를 사용할 수 없다. 리스트는 값을 변하게 할 수 있기 때문에 Key값으로 적합하지 않다. "
   ]
  },
  {
   "cell_type": "markdown",
   "metadata": {},
   "source": [
    "---"
   ]
  },
  {
   "cell_type": "markdown",
   "metadata": {},
   "source": [
    "## 딕셔너리 관련함수 "
   ]
  },
  {
   "cell_type": "markdown",
   "metadata": {},
   "source": [
    "### ● Key 리스트 만들기 (keys)"
   ]
  },
  {
   "cell_type": "markdown",
   "metadata": {},
   "source": [
    "#### a.keys( )는 딕셔너리 a의 Key만을 모아서 dict_keys 객체로 반환한다. "
   ]
  },
  {
   "cell_type": "code",
   "execution_count": 20,
   "metadata": {},
   "outputs": [
    {
     "data": {
      "text/plain": [
       "dict_keys(['name', 'phone', 'birth'])"
      ]
     },
     "execution_count": 20,
     "metadata": {},
     "output_type": "execute_result"
    }
   ],
   "source": [
    "a = {'name':'pey', 'phone':'01012341234', 'birth':'0918'}\n",
    "print(a.keys())"
   ]
  },
  {
   "cell_type": "markdown",
   "metadata": {},
   "source": [
    "#### dict_keys 객체를 리스트로 변환하려면 다음과 같다. "
   ]
  },
  {
   "cell_type": "code",
   "execution_count": 21,
   "metadata": {},
   "outputs": [
    {
     "name": "stdout",
     "output_type": "stream",
     "text": [
      "['name', 'phone', 'birth']\n"
     ]
    }
   ],
   "source": [
    "a = {'name':'pey', 'phone':'01012341234', 'birth':'0918'}\n",
    "print(list(a.keys()))"
   ]
  },
  {
   "cell_type": "markdown",
   "metadata": {},
   "source": [
    "### ● Values 리스트 만들기 (values)"
   ]
  },
  {
   "cell_type": "markdown",
   "metadata": {},
   "source": [
    "#### a.values( ) 함수를 호출하면 dict_values 객체를 돌려준다. "
   ]
  },
  {
   "cell_type": "code",
   "execution_count": 22,
   "metadata": {},
   "outputs": [
    {
     "name": "stdout",
     "output_type": "stream",
     "text": [
      "['pey', '01012341234', '0918']\n"
     ]
    }
   ],
   "source": [
    "a = {'name':'pey', 'phone':'01012341234', 'birth':'0918'}\n",
    "print(list(a.values()))"
   ]
  },
  {
   "cell_type": "markdown",
   "metadata": {},
   "source": [
    "### ● Key와 Value 쌍 얻기 (items)"
   ]
  },
  {
   "cell_type": "markdown",
   "metadata": {},
   "source": [
    "#### a.items( ) 함수를 호출하면 Key와 Value의 쌍을 튜플로 묶은 값을 dict_items 객체로 반환한다. "
   ]
  },
  {
   "cell_type": "code",
   "execution_count": 23,
   "metadata": {},
   "outputs": [
    {
     "name": "stdout",
     "output_type": "stream",
     "text": [
      "dict_items([('name', 'pey'), ('phone', '01012341234'), ('birth', '0918')])\n"
     ]
    }
   ],
   "source": [
    "a = {'name':'pey', 'phone':'01012341234', 'birth':'0918'}\n",
    "print(a.items())"
   ]
  },
  {
   "cell_type": "markdown",
   "metadata": {},
   "source": [
    "### ● Key : Value 쌍 모두 지우기 (clear)"
   ]
  },
  {
   "cell_type": "code",
   "execution_count": 25,
   "metadata": {},
   "outputs": [
    {
     "name": "stdout",
     "output_type": "stream",
     "text": [
      "None\n",
      "{}\n"
     ]
    }
   ],
   "source": [
    "a = {'name':'pey', 'phone':'01012341234', 'birth':'0918'}\n",
    "print(a.clear())\n",
    "print(a)"
   ]
  },
  {
   "cell_type": "markdown",
   "metadata": {},
   "source": [
    "### ● 해당 Key가 딕셔너리 안에 있는지 조사하기 (in) "
   ]
  },
  {
   "cell_type": "markdown",
   "metadata": {},
   "source": [
    "#### 딕셔너리 안에 존재하는 Key일 경우 True를 반환해주고, 존재하지 않는 Key일 경우 False를 반환해준다. "
   ]
  },
  {
   "cell_type": "code",
   "execution_count": 26,
   "metadata": {},
   "outputs": [
    {
     "name": "stdout",
     "output_type": "stream",
     "text": [
      "True\n",
      "False\n"
     ]
    }
   ],
   "source": [
    "a = {'name':'pey', 'phone':'010-9999-1234', 'birth': '1118'}\n",
    "\n",
    "print('name' in a)\n",
    "print('email' in a)"
   ]
  },
  {
   "cell_type": "markdown",
   "metadata": {},
   "source": [
    "---"
   ]
  }
 ],
 "metadata": {
  "kernelspec": {
   "display_name": "Python 3.8.9 64-bit",
   "language": "python",
   "name": "python3"
  },
  "language_info": {
   "codemirror_mode": {
    "name": "ipython",
    "version": 3
   },
   "file_extension": ".py",
   "mimetype": "text/x-python",
   "name": "python",
   "nbconvert_exporter": "python",
   "pygments_lexer": "ipython3",
   "version": "3.8.9"
  },
  "orig_nbformat": 4,
  "vscode": {
   "interpreter": {
    "hash": "e830bd47f5005a1920e1b1ec2d6968b0df80bea4a16275604f69f153be9c7bfc"
   }
  }
 },
 "nbformat": 4,
 "nbformat_minor": 2
}
