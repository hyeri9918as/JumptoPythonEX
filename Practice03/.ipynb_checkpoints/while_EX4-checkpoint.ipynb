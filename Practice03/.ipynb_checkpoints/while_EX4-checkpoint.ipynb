{
 "cells": [
  {
   "cell_type": "markdown",
   "id": "acb229d8",
   "metadata": {},
   "source": [
    "# 무한 루프 (while 문) "
   ]
  },
  {
   "cell_type": "markdown",
   "id": "872ee1a9",
   "metadata": {},
   "source": [
    "#### while 문 안에 있는 내용들을 무한히 반복할 때 사용되는 문법 "
   ]
  },
  {
   "cell_type": "markdown",
   "id": "72e2ae40",
   "metadata": {},
   "source": [
    "---"
   ]
  },
  {
   "cell_type": "markdown",
   "id": "cb7589da",
   "metadata": {},
   "source": [
    "## 무한 루프 예 "
   ]
  },
  {
   "cell_type": "code",
   "execution_count": null,
   "id": "0842a4ce",
   "metadata": {},
   "outputs": [],
   "source": [
    "while True : \n",
    "    print(\"Ctrl+C를 눌러야 while 문을 빠져나갈 수 있다.\")"
   ]
  },
  {
   "cell_type": "markdown",
   "id": "1a4db16a",
   "metadata": {},
   "source": [
    "---"
   ]
  }
 ],
 "metadata": {
  "kernelspec": {
   "display_name": "Python 3 (ipykernel)",
   "language": "python",
   "name": "python3"
  },
  "language_info": {
   "codemirror_mode": {
    "name": "ipython",
    "version": 3
   },
   "file_extension": ".py",
   "mimetype": "text/x-python",
   "name": "python",
   "nbconvert_exporter": "python",
   "pygments_lexer": "ipython3",
   "version": "3.8.9"
  },
  "vscode": {
   "interpreter": {
    "hash": "e830bd47f5005a1920e1b1ec2d6968b0df80bea4a16275604f69f153be9c7bfc"
   }
  }
 },
 "nbformat": 4,
 "nbformat_minor": 5
}
