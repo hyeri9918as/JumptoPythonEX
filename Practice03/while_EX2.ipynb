{
 "cells": [
  {
   "cell_type": "markdown",
   "metadata": {},
   "source": [
    "# break문 (while)"
   ]
  },
  {
   "cell_type": "markdown",
   "metadata": {},
   "source": [
    "#### while 문이 참일 동안은 계속해서 while 문 안의 내용을 반복적으로 수행한다. 조건문을 거짓으로 만들어서 반복을 멈출 수도 있지만 while 문 안의 내용을 강제로 종료할 수 있다. 이때 사용하는 것이 break 문이다. "
   ]
  },
  {
   "cell_type": "markdown",
   "metadata": {},
   "source": [
    "---"
   ]
  },
  {
   "cell_type": "markdown",
   "metadata": {},
   "source": [
    "## 커피 자판기 예제 "
   ]
  },
  {
   "cell_type": "markdown",
   "metadata": {},
   "source": [
    "#### 자판기 안에 커피 개수가 다 떨어지게 될 경우는 판매를 중지해야 한다. 그러기 위해서는 커피 수를 항상 검사해야 하면 커피가 떨어질 경우 '판매 중지' 문구를 사용자에게 보여줘야 한다. "
   ]
  },
  {
   "cell_type": "code",
   "execution_count": 1,
   "metadata": {},
   "outputs": [
    {
     "name": "stdout",
     "output_type": "stream",
     "text": [
      "돈을 받았습니다. 커피를 줍니다.\n",
      "남은 커피의 양은 9개입니다.\n",
      "돈을 받았습니다. 커피를 줍니다.\n",
      "남은 커피의 양은 8개입니다.\n",
      "돈을 받았습니다. 커피를 줍니다.\n",
      "남은 커피의 양은 7개입니다.\n",
      "돈을 받았습니다. 커피를 줍니다.\n",
      "남은 커피의 양은 6개입니다.\n",
      "돈을 받았습니다. 커피를 줍니다.\n",
      "남은 커피의 양은 5개입니다.\n",
      "돈을 받았습니다. 커피를 줍니다.\n",
      "남은 커피의 양은 4개입니다.\n",
      "돈을 받았습니다. 커피를 줍니다.\n",
      "남은 커피의 양은 3개입니다.\n",
      "돈을 받았습니다. 커피를 줍니다.\n",
      "남은 커피의 양은 2개입니다.\n",
      "돈을 받았습니다. 커피를 줍니다.\n",
      "남은 커피의 양은 1개입니다.\n",
      "돈을 받았습니다. 커피를 줍니다.\n",
      "남은 커피의 양은 0개입니다.\n",
      "커피가 다 떨어졌습니다. 판매를 중지합니다.\n"
     ]
    }
   ],
   "source": [
    "coffee = 10      # 커피의 개수는 10개 \n",
    "money = 300      # 돈은 300원이 있다. \n",
    "\n",
    "while money :                                 # 돈은 기본값이 300이므로 조건문은 계속해서 참이다. \n",
    "    print(\"돈을 받았습니다. 커피를 줍니다.\")\n",
    "    \n",
    "    coffee = coffee -1                        # while 문이 작동되는 동안 커피 개수는 하나씩 줄어든다. \n",
    "    print(\"남은 커피의 양은 %d개입니다.\" % coffee)\n",
    "    \n",
    "    if coffee == 0 :    # 커피의 개수가 0이 될 경우 \n",
    "        print(\"커피가 다 떨어졌습니다. 판매를 중지합니다.\")\n",
    "        break "
   ]
  },
  {
   "cell_type": "markdown",
   "metadata": {},
   "source": [
    "#### money가 300으로 고정되어 있으므로 while money :에서 조건문인 money는 0이 아니므로 항상 참이다. 따라서 무한히 반복되는 무한 루프를 돌게 된다. <br> <br> while 문의 내용을 한번 수행할 때마다 coffee = coffee –1에 의해 coffee 개수가 1개씩 줄어든다. <br><br> 만약 커피가 0이 되면 if coffee == 0 : 문장에서 coffee == 0이 참이 되므로 if 문 다음 문장이 수행되고 break 문이 호출되어 while 문을 빠져나갈 수 있게 된다. "
   ]
  },
  {
   "cell_type": "markdown",
   "metadata": {},
   "source": [
    "---"
   ]
  },
  {
   "cell_type": "markdown",
   "metadata": {},
   "source": [
    "## 돈을 직접 넣는 커피 자판기 예제 "
   ]
  },
  {
   "cell_type": "code",
   "execution_count": 1,
   "metadata": {},
   "outputs": [
    {
     "name": "stdout",
     "output_type": "stream",
     "text": [
      "돈을 넣어 주세요: 200\n",
      "돈을 다시 돌려드립니다. 커피가 나오지 않습니다.\n",
      "남은 커피의 양은 5개 입니다.\n",
      "돈을 넣어 주세요: 300\n",
      "커피가 나옵니다.\n",
      "남은 커피의 양은 4개 입니다.\n",
      "돈을 넣어 주세요: 400\n",
      "거스름돈 100가 나옵니다. 거스름 돈과 커피를 받으세요. \n",
      "남은 커피의 양은 3개 입니다.\n",
      "돈을 넣어 주세요: 600\n",
      "거스름돈 300가 나옵니다. 거스름 돈과 커피를 받으세요. \n",
      "남은 커피의 양은 2개 입니다.\n",
      "돈을 넣어 주세요: 300\n",
      "커피가 나옵니다.\n",
      "남은 커피의 양은 1개 입니다.\n",
      "돈을 넣어 주세요: 300\n",
      "커피가 나옵니다.\n",
      "남은 커피의 양은 0개 입니다.\n",
      "커피가 다 떨어졌습니다. 판매를 중지합니다.\n"
     ]
    }
   ],
   "source": [
    "coffee = 5\n",
    "\n",
    "while True : \n",
    "    money = int(input(\"돈을 넣어 주세요: \"))    # 입력 받은 int 값을 money 변수에 대입 \n",
    "    \n",
    "    if money == 300 :   # 돈을 300원 입력하면 \n",
    "        print(\"커피가 나옵니다.\")   # print 문과 함께 커피 개수가 하나 줄어든다. \n",
    "        coffee = coffee - 1\n",
    "        print(\"남은 커피의 양은 %d개 입니다.\" % coffee)\n",
    "        \n",
    "    elif money > 300 :  # 돈을 300원 이상으로 입력하면 \n",
    "        print(\"거스름돈 %d가 나옵니다. 거스름 돈과 커피를 받으세요. \" % (money-300))\n",
    "        coffee = coffee -1   #입력한 돈에서 300원을 뺀 후 남은 돈과 함께 print 문 출력 / 커피 개수가 하나 줄어든다. \n",
    "        print(\"남은 커피의 양은 %d개 입니다.\" % coffee)\n",
    "        \n",
    "    else:    # 입력한 돈이 300원 미만인 경우 \n",
    "        print(\"돈을 다시 돌려드립니다. 커피가 나오지 않습니다.\")\n",
    "        print(\"남은 커피의 양은 %d개 입니다.\" % coffee)\n",
    "        \n",
    "    if coffee == 0 :\n",
    "        print(\"커피가 다 떨어졌습니다. 판매를 중지합니다.\")\n",
    "        break"
   ]
  },
  {
   "cell_type": "markdown",
   "metadata": {},
   "source": [
    "---"
   ]
  }
 ],
 "metadata": {
  "kernelspec": {
   "display_name": "Python 3 (ipykernel)",
   "language": "python",
   "name": "python3"
  },
  "language_info": {
   "codemirror_mode": {
    "name": "ipython",
    "version": 3
   },
   "file_extension": ".py",
   "mimetype": "text/x-python",
   "name": "python",
   "nbconvert_exporter": "python",
   "pygments_lexer": "ipython3",
   "version": "3.8.9"
  },
  "vscode": {
   "interpreter": {
    "hash": "e830bd47f5005a1920e1b1ec2d6968b0df80bea4a16275604f69f153be9c7bfc"
   }
  }
 },
 "nbformat": 4,
 "nbformat_minor": 2
}
