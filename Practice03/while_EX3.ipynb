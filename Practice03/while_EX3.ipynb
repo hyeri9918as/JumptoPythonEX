{
 "cells": [
  {
   "cell_type": "markdown",
   "id": "8b6d0fe0",
   "metadata": {},
   "source": [
    "# continue (while 문) "
   ]
  },
  {
   "cell_type": "markdown",
   "id": "75873e38",
   "metadata": {},
   "source": [
    "#### while 문을 빠져나가지 않고 다시 while 문의 맨 처음 조건문으로 돌아가게 만들때 사용하는 문법 "
   ]
  },
  {
   "cell_type": "markdown",
   "id": "2d117eff",
   "metadata": {},
   "source": [
    "---"
   ]
  },
  {
   "cell_type": "markdown",
   "id": "ff525fae",
   "metadata": {},
   "source": [
    "## 홀수만 출력하는 while 문 작성"
   ]
  },
  {
   "cell_type": "code",
   "execution_count": 6,
   "id": "65a08671",
   "metadata": {},
   "outputs": [
    {
     "name": "stdout",
     "output_type": "stream",
     "text": [
      "1\n",
      "3\n",
      "5\n",
      "7\n",
      "9\n"
     ]
    }
   ],
   "source": [
    "a = 0\n",
    "while a < 10 :\n",
    "    a = a+1   # a값이 1씩 증가 \n",
    "    \n",
    "    if a%2 == 0 : \n",
    "        continue     # a를 2로 나누었을 때 나머지가 0이면 맨 처음으로 돌아간다. \n",
    "    \n",
    "    print(a)"
   ]
  },
  {
   "cell_type": "markdown",
   "id": "4bd3e01b",
   "metadata": {},
   "source": [
    "---"
   ]
  },
  {
   "cell_type": "markdown",
   "id": "da3fab38",
   "metadata": {},
   "source": [
    "## 1부터 10까지의 숫자 중에서 3의 배수를 뺀 나머지 값만 출력"
   ]
  },
  {
   "cell_type": "code",
   "execution_count": 7,
   "id": "967aaee8",
   "metadata": {},
   "outputs": [
    {
     "name": "stdout",
     "output_type": "stream",
     "text": [
      "1\n",
      "2\n",
      "4\n",
      "5\n",
      "7\n",
      "8\n",
      "10\n"
     ]
    }
   ],
   "source": [
    "a = 0\n",
    "while a < 10 :\n",
    "    a = a+1   # a값이 1씩 증가 \n",
    "    \n",
    "    if a%3 == 0 : \n",
    "        continue     # a를 3로 나누었을 때 나머지가 0이면 맨 처음으로 돌아간다. \n",
    "    \n",
    "    print(a)"
   ]
  },
  {
   "cell_type": "markdown",
   "id": "55a73832",
   "metadata": {},
   "source": [
    "---"
   ]
  },
  {
   "cell_type": "markdown",
   "id": "d07646db",
   "metadata": {},
   "source": [
    "# 무한 루프 (while 문) "
   ]
  },
  {
   "cell_type": "markdown",
   "id": "872ee1a9",
   "metadata": {},
   "source": [
    "#### while 문 안에 있는 내용들을 무한히 반복할 때 사용되는 문법 "
   ]
  },
  {
   "cell_type": "markdown",
   "id": "72e2ae40",
   "metadata": {},
   "source": [
    "---"
   ]
  },
  {
   "cell_type": "markdown",
   "id": "b132cced",
   "metadata": {},
   "source": [
    "## 무한 루프 예 "
   ]
  },
  {
   "cell_type": "code",
   "execution_count": null,
   "id": "f8bcfe48",
   "metadata": {},
   "outputs": [],
   "source": [
    "while True : \n",
    "    print(\"Ctrl+C를 눌러야 while 문을 빠져나갈 수 있다.\")"
   ]
  },
  {
   "cell_type": "markdown",
   "id": "12ed27f9",
   "metadata": {},
   "source": [
    "---"
   ]
  }
 ],
 "metadata": {
  "kernelspec": {
   "display_name": "Python 3.8.9 64-bit",
   "language": "python",
   "name": "python3"
  },
  "language_info": {
   "codemirror_mode": {
    "name": "ipython",
    "version": 3
   },
   "file_extension": ".py",
   "mimetype": "text/x-python",
   "name": "python",
   "nbconvert_exporter": "python",
   "pygments_lexer": "ipython3",
   "version": "3.8.9"
  },
  "vscode": {
   "interpreter": {
    "hash": "e830bd47f5005a1920e1b1ec2d6968b0df80bea4a16275604f69f153be9c7bfc"
   }
  }
 },
 "nbformat": 4,
 "nbformat_minor": 5
}
