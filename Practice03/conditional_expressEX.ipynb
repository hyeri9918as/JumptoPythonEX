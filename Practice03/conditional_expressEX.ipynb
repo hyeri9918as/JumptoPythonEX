{
 "cells": [
  {
   "cell_type": "markdown",
   "metadata": {},
   "source": [
    "# 조건부 표현식 (conditional expression)"
   ]
  },
  {
   "cell_type": "markdown",
   "metadata": {},
   "source": [
    "#### 조건부 표현식을 사용하면 코드를 더 간단히 가독성있게 사용할 수 있다."
   ]
  },
  {
   "cell_type": "markdown",
   "metadata": {},
   "source": [
    "---"
   ]
  },
  {
   "cell_type": "markdown",
   "metadata": {},
   "source": [
    "## 조건부 표현식의 기본 구조 "
   ]
  },
  {
   "cell_type": "markdown",
   "metadata": {},
   "source": [
    "> 조건문이 참인 경우 if 조건문 else 조건문이 거짓인 경우 "
   ]
  },
  {
   "cell_type": "markdown",
   "metadata": {},
   "source": [
    "#### 조건부 표현식의 예 "
   ]
  },
  {
   "cell_type": "code",
   "execution_count": 6,
   "metadata": {},
   "outputs": [
    {
     "name": "stdout",
     "output_type": "stream",
     "text": [
      "failure\n"
     ]
    }
   ],
   "source": [
    "# if else 문\n",
    " \n",
    "score = 53\n",
    "if score >= 60:\n",
    "    message = 'success'\n",
    "else :\n",
    "    message = 'failure'\n",
    "    \n",
    "print(message)"
   ]
  },
  {
   "cell_type": "code",
   "execution_count": 5,
   "metadata": {},
   "outputs": [
    {
     "name": "stdout",
     "output_type": "stream",
     "text": [
      "failure\n"
     ]
    }
   ],
   "source": [
    "# conditional express\n",
    "\n",
    "score = 53\n",
    "message = \"success\" if score >= 60 else \"failure\"\n",
    "\n",
    "print(message)"
   ]
  }
 ],
 "metadata": {
  "kernelspec": {
   "display_name": "Python 3.8.9 64-bit",
   "language": "python",
   "name": "python3"
  },
  "language_info": {
   "codemirror_mode": {
    "name": "ipython",
    "version": 3
   },
   "file_extension": ".py",
   "mimetype": "text/x-python",
   "name": "python",
   "nbconvert_exporter": "python",
   "pygments_lexer": "ipython3",
   "version": "3.8.9"
  },
  "orig_nbformat": 4,
  "vscode": {
   "interpreter": {
    "hash": "e830bd47f5005a1920e1b1ec2d6968b0df80bea4a16275604f69f153be9c7bfc"
   }
  }
 },
 "nbformat": 4,
 "nbformat_minor": 2
}
