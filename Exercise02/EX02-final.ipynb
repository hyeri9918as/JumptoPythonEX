{
 "cells": [
  {
   "cell_type": "markdown",
   "metadata": {},
   "source": [
    "# 연습문제 \n"
   ]
  },
  {
   "cell_type": "markdown",
   "metadata": {},
   "source": [
    "---\n"
   ]
  },
  {
   "cell_type": "markdown",
   "metadata": {},
   "source": [
    "### Q1. 홍길동씨의 과목별 점수는 다음과 같다. 홍길동씨의 평균 점수를 구해보자. (국어 : 80점, 영어 : 75점, 수학 : 55점)"
   ]
  },
  {
   "cell_type": "code",
   "execution_count": 2,
   "metadata": {},
   "outputs": [
    {
     "name": "stdout",
     "output_type": "stream",
     "text": [
      "70.0\n"
     ]
    }
   ],
   "source": [
    "Korean = 80 \n",
    "English = 75 \n",
    "Math = 55\n",
    "\n",
    "Average = (Korean + English + Math)/3\n",
    "\n",
    "print(Average)"
   ]
  },
  {
   "cell_type": "markdown",
   "metadata": {},
   "source": [
    "### Q2. 자연수 13이 홀수인지 짝수인지 판별할 수 있는 방법에 대해 말해보자. "
   ]
  },
  {
   "cell_type": "code",
   "execution_count": 6,
   "metadata": {},
   "outputs": [
    {
     "name": "stdout",
     "output_type": "stream",
     "text": [
      "True 홀수입니다\n",
      "False 짝수입니다\n"
     ]
    }
   ],
   "source": [
    "print(13%2 == 1,  \"홀수입니다\")\n",
    "print(13%2 == 0,  \"짝수입니다\")"
   ]
  },
  {
   "cell_type": "markdown",
   "metadata": {},
   "source": [
    "### Q3. 홍길동씨의 주민등록번호는 881120-1068234이다. 홍길동씨의 주민등록번호를 연월일 부분과 그 뒤의 숫자 부분으로 나누어 출력해보자."
   ]
  },
  {
   "cell_type": "code",
   "execution_count": 9,
   "metadata": {},
   "outputs": [
    {
     "name": "stdout",
     "output_type": "stream",
     "text": [
      "19881120\n",
      "1068234\n"
     ]
    }
   ],
   "source": [
    "# 슬라이싱 기법을 사용해 문자열 구분 \n",
    "\n",
    "pin = \"881120-1068234\"\n",
    "yyyymmdd = pin[ : 6]\n",
    "num = pin[7 : ]\n",
    "\n",
    "print(\"19\"+yyyymmdd)\n",
    "print(num)"
   ]
  },
  {
   "cell_type": "code",
   "execution_count": 12,
   "metadata": {},
   "outputs": [
    {
     "name": "stdout",
     "output_type": "stream",
     "text": [
      "881120\n",
      "1068234\n"
     ]
    }
   ],
   "source": [
    "# split 구분 함수를 사용해 문자열을 -기호로 구분 \n",
    "\n",
    "pin = \"881120-1068234\"\n",
    "splitpin = pin.split(\"-\")\n",
    "\n",
    "print(splitpin[0])\n",
    "print(splitpin[1])"
   ]
  },
  {
   "cell_type": "markdown",
   "metadata": {},
   "source": [
    "### Q4. 주민등록번호 뒷자리의 맨 첫 번째 숫자는 성별을 나타낸다. 주민등록번호에서 성별을 나타내는 숫자를 출력해보자."
   ]
  },
  {
   "cell_type": "code",
   "execution_count": 13,
   "metadata": {},
   "outputs": [
    {
     "name": "stdout",
     "output_type": "stream",
     "text": [
      "1\n"
     ]
    }
   ],
   "source": [
    "# split 구분 함수를 사용해 문자열을 -기호로 구분 \n",
    "\n",
    "pin = \"881120-1068234\"\n",
    "splitpin = pin.split(\"-\")\n",
    "\n",
    "print(splitpin[1][0])     "
   ]
  },
  {
   "cell_type": "markdown",
   "metadata": {},
   "source": [
    "#### 일일이 총자릿수를 알아내서 인덱싱으로 값을 추출하는 것은 효율적이지 못하다고 생각이 들어 주민번호 뒷자리는 -기호로 구분되어 있으니 이를 split 함수로 구분하고 구분한 두 데이터 값을 인덱싱하여 [1][0]으로 설정하여 성별을 나타내는 숫자를 출력하였다. "
   ]
  },
  {
   "cell_type": "markdown",
   "metadata": {},
   "source": [
    "### Q5. 다음과 같은 문자열 a:b:c:d가 있다. 문자열의 replace 함수를 사용하여 a#b#c#d로 바꿔서 출력해보자. "
   ]
  },
  {
   "cell_type": "code",
   "execution_count": 15,
   "metadata": {},
   "outputs": [
    {
     "name": "stdout",
     "output_type": "stream",
     "text": [
      "a#b#c#d\n"
     ]
    }
   ],
   "source": [
    "str = 'a:b:c:d'\n",
    "print(str.replace(':', '#'))      #앞의 인자 값이 변경할 문자열, 뒤의 인자 값이 대체될 문자열이다. "
   ]
  },
  {
   "cell_type": "markdown",
   "metadata": {},
   "source": [
    "### Q6. [1, 3, 5, 4, 2] 리스트를 [5, 4, 3, 2, 1]로 만들어보자. "
   ]
  },
  {
   "cell_type": "code",
   "execution_count": 22,
   "metadata": {},
   "outputs": [
    {
     "name": "stdout",
     "output_type": "stream",
     "text": [
      "[5, 4, 3, 2, 1]\n"
     ]
    }
   ],
   "source": [
    "list = [1, 3, 5, 4, 2]\n",
    "list.sort(reverse=True)  # sort 사용시 매개변수 반환 값을 역순으로 지정 \n",
    "\n",
    "print(list)"
   ]
  },
  {
   "cell_type": "code",
   "execution_count": 23,
   "metadata": {},
   "outputs": [
    {
     "name": "stdout",
     "output_type": "stream",
     "text": [
      "[5, 4, 3, 2, 1]\n"
     ]
    }
   ],
   "source": [
    "list = [1, 3, 5, 4, 2]\n",
    "ordlist = sorted(list)      # 정렬한 값을 변수에 넣어서 역순으로 변경시 sorted 사용 \n",
    "ordlist.reverse()\n",
    "\n",
    "print(ordlist)"
   ]
  },
  {
   "cell_type": "markdown",
   "metadata": {},
   "source": [
    "#### sort 함수는 특정 리스트를 정렬해주는 기능을 하는 함수일뿐, 반환값이 없는 함수이므로 변수에 sort 함수를 넣을 경우 None 값을 반환해준다. (Type 또한 None이다. )"
   ]
  },
  {
   "cell_type": "markdown",
   "metadata": {},
   "source": [
    "#### sorted 함수는 특정 리스트를 정렬한 후 정렬된 리스트를 반환해주는 함수로, 반환값이 존재하는 함수이다. 그러므로 sorted 함수는 변수(객체)에 값을 담을 수 있다. "
   ]
  },
  {
   "cell_type": "markdown",
   "metadata": {},
   "source": [
    "---\n"
   ]
  }
 ],
 "metadata": {
  "kernelspec": {
   "display_name": "Python 3.8.9 64-bit",
   "language": "python",
   "name": "python3"
  },
  "language_info": {
   "codemirror_mode": {
    "name": "ipython",
    "version": 3
   },
   "file_extension": ".py",
   "mimetype": "text/x-python",
   "name": "python",
   "nbconvert_exporter": "python",
   "pygments_lexer": "ipython3",
   "version": "3.8.9"
  },
  "orig_nbformat": 4,
  "vscode": {
   "interpreter": {
    "hash": "e830bd47f5005a1920e1b1ec2d6968b0df80bea4a16275604f69f153be9c7bfc"
   }
  }
 },
 "nbformat": 4,
 "nbformat_minor": 2
}
